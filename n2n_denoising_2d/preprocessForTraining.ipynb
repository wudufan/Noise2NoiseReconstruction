{
 "cells": [
  {
   "cell_type": "code",
   "execution_count": 4,
   "metadata": {},
   "outputs": [],
   "source": [
    "import numpy as np\n",
    "import glob\n",
    "import os\n",
    "import sys"
   ]
  },
  {
   "cell_type": "code",
   "execution_count": 9,
   "metadata": {},
   "outputs": [],
   "source": [
    "# retrieve sub-slices from full_hann\n",
    "slices = [2, 16, 26, 54, 55, 73, 75, 86, 93, 95]\n",
    "\n",
    "img = np.load('../../train/recon/data/fp/full_hann.npy')[slices, ...]\n",
    "np.save('../../train/recon/data/fp/full_hann_10', img)"
   ]
  },
  {
   "cell_type": "code",
   "execution_count": 8,
   "metadata": {},
   "outputs": [],
   "source": [
    "# aggregate gaussian fp\n",
    "slices = [2, 16, 26, 54, 55, 73, 75, 86, 93, 95]\n",
    "\n",
    "for dose in [0.5, 0.333, 0.25, 0.166, 0.125]:\n",
    "    for recon in [0, 1]:\n",
    "        directory = '../../train/recon/n2n_denoising_fp/gaussian_two_sets/%g/1.25e-4/'%dose\n",
    "        output = '../../train/recon/n2n_denoising_fp/gaussian_two_sets/%g/recon_%d'%(dose, recon)\n",
    "        \n",
    "        imgs = []\n",
    "        for iSlice in slices:\n",
    "            imgs.append(np.load(os.path.join(directory, str(iSlice), 'recon_%d.npy')%recon))\n",
    "        imgs = np.concatenate(imgs)\n",
    "        \n",
    "        np.save(output, imgs * 0.019)"
   ]
  },
  {
   "cell_type": "code",
   "execution_count": 14,
   "metadata": {},
   "outputs": [],
   "source": [
    "# aggregate gaussian 2d\n",
    "slices = np.arange(100)\n",
    "for recon in [0, 1]:\n",
    "    directory = '../../train/recon/n2n_denoising_2d/gaussian_two_sets/1.25e-4/'\n",
    "    output = '../../train/recon/n2n_denoising_2d/gaussian_two_sets/recon_%d'%(recon)\n",
    "\n",
    "    imgs = []\n",
    "    for iSlice in slices:\n",
    "        imgs.append(np.load(os.path.join(directory, str(iSlice), 'recon_%d.npy')%recon))\n",
    "    imgs = np.concatenate(imgs)\n",
    "\n",
    "    np.save(output, imgs * 0.019)"
   ]
  },
  {
   "cell_type": "code",
   "execution_count": 4,
   "metadata": {},
   "outputs": [],
   "source": []
  },
  {
   "cell_type": "code",
   "execution_count": null,
   "metadata": {},
   "outputs": [],
   "source": []
  }
 ],
 "metadata": {
  "kernelspec": {
   "display_name": "Python 3",
   "language": "python",
   "name": "python3"
  },
  "language_info": {
   "codemirror_mode": {
    "name": "ipython",
    "version": 3
   },
   "file_extension": ".py",
   "mimetype": "text/x-python",
   "name": "python",
   "nbconvert_exporter": "python",
   "pygments_lexer": "ipython3",
   "version": "3.6.8"
  }
 },
 "nbformat": 4,
 "nbformat_minor": 2
}
