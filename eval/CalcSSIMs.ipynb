{
 "cells": [
  {
   "cell_type": "code",
   "execution_count": 1,
   "metadata": {},
   "outputs": [],
   "source": [
    "import numpy as np\n",
    "import glob\n",
    "import os\n",
    "import sys\n",
    "from skimage.measure import compare_ssim\n",
    "import matplotlib.pyplot as plt\n",
    "%matplotlib inline"
   ]
  },
  {
   "cell_type": "code",
   "execution_count": 13,
   "metadata": {},
   "outputs": [],
   "source": [
    "def CropToWindow(img, vmin = 0.84, vmax = 1.24):\n",
    "    img = (img - vmin) / (vmax - vmin)\n",
    "    img[img < 0] = 0\n",
    "    img[img > 1] = 1\n",
    "    \n",
    "    return img"
   ]
  },
  {
   "cell_type": "code",
   "execution_count": 14,
   "metadata": {},
   "outputs": [],
   "source": [
    "refs = np.load('../../train/recon/data/sino/full_gaussian.npy')[..., 128:-128, 128:-128, 0] / 0.019"
   ]
  },
  {
   "cell_type": "code",
   "execution_count": 21,
   "metadata": {},
   "outputs": [],
   "source": [
    "inputDirs = [\n",
    "#     '../../train/recon/gaussian_2d/1.25e-4/',\n",
    "#     '../../train/recon/tv_2d/4e-5/',\n",
    "#     '../../train/recon/nlm_2d/5e-4_sigma_0.075/', \n",
    "#     '../../train/recon/csc_2d/0.02/', \n",
    "#     '../../train/recon/n2n_2d/encoder_decoder_all/7.5e-4/', \n",
    "#     '../../train/recon/n2n_2d/encoder_decoder_all_no_init/7.5e-4/',\n",
    "#     '../../train/recon/n2n_denoising_2d/denoising/2/', \n",
    "    '../../train/recon/n2c_2d/encoder_decoder/final/']"
   ]
  },
  {
   "cell_type": "code",
   "execution_count": 23,
   "metadata": {},
   "outputs": [
    {
     "name": "stdout",
     "output_type": "stream",
     "text": [
      "../../train/recon/n2c_2d/encoder_decoder/final/\n"
     ]
    }
   ],
   "source": [
    "for inputDir in inputDirs:\n",
    "    print (inputDir, flush=True)\n",
    "    for iSlice in range(refs.shape[0]):\n",
    "        path = os.path.join(inputDir, str(iSlice), 'recon.npy')\n",
    "        if os.path.exists(path):\n",
    "            img = np.load(path)\n",
    "            if img.ndim == 3:\n",
    "                img = img[128:-128, 128:-128, 0]\n",
    "            else:\n",
    "                img = img[0, 128:-128, 128:-128, 0]\n",
    "            s_liver, _ = compare_ssim(CropToWindow(img, 0.84, 1.24), \n",
    "                                      CropToWindow(refs[iSlice,...], 0.84, 1.24), \n",
    "                                      data_range=1, full=True)\n",
    "            \n",
    "            s_lung, _ = compare_ssim(CropToWindow(img, -0.15, 1.15), \n",
    "                                     CropToWindow(refs[iSlice,...], -0.15, 1.15), \n",
    "                                     data_range=1, full=True)\n",
    "                \n",
    "            np.save(os.path.join(inputDir, str(iSlice), 'ssim_liver.npy'), s_liver)\n",
    "            np.save(os.path.join(inputDir, str(iSlice), 'ssim_lung.npy'), s_lung)\n",
    "            \n",
    "    "
   ]
  },
  {
   "cell_type": "code",
   "execution_count": null,
   "metadata": {},
   "outputs": [],
   "source": []
  }
 ],
 "metadata": {
  "kernelspec": {
   "display_name": "Python 3",
   "language": "python",
   "name": "python3"
  },
  "language_info": {
   "codemirror_mode": {
    "name": "ipython",
    "version": 3
   },
   "file_extension": ".py",
   "mimetype": "text/x-python",
   "name": "python",
   "nbconvert_exporter": "python",
   "pygments_lexer": "ipython3",
   "version": "3.6.8"
  }
 },
 "nbformat": 4,
 "nbformat_minor": 2
}
