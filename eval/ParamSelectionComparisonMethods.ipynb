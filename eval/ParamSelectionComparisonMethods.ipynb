{
 "cells": [
  {
   "cell_type": "code",
   "execution_count": 1,
   "metadata": {},
   "outputs": [],
   "source": [
    "import numpy as np\n",
    "import glob\n",
    "import sys\n",
    "import os\n",
    "import matplotlib.pyplot as plt\n",
    "%matplotlib inline\n",
    "import re\n",
    "import scipy.stats"
   ]
  },
  {
   "cell_type": "code",
   "execution_count": 2,
   "metadata": {},
   "outputs": [],
   "source": [
    "inputDirs = {'tv': '../../train/recon/tv_2d/', \n",
    "#              'nlm': '../../train/recon/nlm_fp/', \n",
    "             'csc': '../../train/recon/csc_2d/',\n",
    "             'denoising': '../../train/recon/n2n_denoising_2d/denoising/'}\n",
    "inputSlices = [2, 16, 26, 54, 55, 73, 75, 86, 93, 95]"
   ]
  },
  {
   "cell_type": "code",
   "execution_count": 3,
   "metadata": {},
   "outputs": [],
   "source": [
    "gammaList = {}\n",
    "rmseList = {}\n",
    "for k in inputDirs:\n",
    "    subDirs = glob.glob(os.path.join(inputDirs[k], '*'))\n",
    "    \n",
    "    gammas = []\n",
    "    rmses = []\n",
    "    \n",
    "    for subDir in subDirs:\n",
    "        try:\n",
    "            gamma = float(os.path.basename(subDir).split('_')[0])\n",
    "        except:\n",
    "            continue\n",
    "\n",
    "        gammas.append(gamma)\n",
    "        for inputSlice in inputSlices:\n",
    "            rmse = np.load(os.path.join(subDir, str(inputSlice), 'loss.npz'))['val']\n",
    "            if rmse.ndim == 0:\n",
    "                rmse = float(rmse)\n",
    "            else:\n",
    "                rmse = rmse[-1,-1]\n",
    "            rmses.append(rmse)\n",
    "    \n",
    "    gammas = np.array(gammas)\n",
    "    rmses = np.reshape(np.array(rmses), (len(gammas),-1))\n",
    "\n",
    "    gammaList[k] = gammas\n",
    "    rmseList[k] = np.mean(rmses,-1)"
   ]
  },
  {
   "cell_type": "code",
   "execution_count": 4,
   "metadata": {},
   "outputs": [
    {
     "data": {
      "text/plain": [
       "{'tv': array([0.02128163, 0.02989899, 0.02240745, 0.0213141 , 0.02158716,\n",
       "        0.02203988]),\n",
       " 'csc': array([0.01790902, 0.03619705, 0.0221792 , 0.02069406, 0.02412034]),\n",
       " 'denoising': array([0.02337659, 0.02135809, 0.02085251, 0.02143926, 0.02200868])}"
      ]
     },
     "execution_count": 4,
     "metadata": {},
     "output_type": "execute_result"
    }
   ],
   "source": [
    "rmseList"
   ]
  },
  {
   "cell_type": "code",
   "execution_count": 5,
   "metadata": {},
   "outputs": [
    {
     "data": {
      "text/plain": [
       "{'tv': array([4.e-05, 1.e-05, 2.e-05, 3.e-05, 5.e-05, 6.e-05]),\n",
       " 'csc': array([0.02 , 0.005, 0.01 , 0.04 , 0.06 ]),\n",
       " 'denoising': array([0., 1., 2., 3., 4.])}"
      ]
     },
     "execution_count": 5,
     "metadata": {},
     "output_type": "execute_result"
    }
   ],
   "source": [
    "gammaList"
   ]
  },
  {
   "cell_type": "code",
   "execution_count": 28,
   "metadata": {},
   "outputs": [],
   "source": [
    "# nlm: 2-dimensional search\n",
    "inputDirs = {'nlm': '../../train/recon/nlm_2d/'}"
   ]
  },
  {
   "cell_type": "code",
   "execution_count": 30,
   "metadata": {},
   "outputs": [],
   "source": [
    "paramList = {}\n",
    "rmseList = {}\n",
    "for k in inputDirs:\n",
    "    subDirs = glob.glob(os.path.join(inputDirs[k], '*'))\n",
    "    \n",
    "    params = []\n",
    "    rmses = []\n",
    "    \n",
    "    for subDir in subDirs:\n",
    "        try:\n",
    "            token = os.path.basename(subDir).split('_')\n",
    "            gamma = float(token[0])\n",
    "            sigma = float(token[2])\n",
    "        except:\n",
    "            continue\n",
    "            \n",
    "        params.append([gamma, sigma])\n",
    "        for inputSlice in inputSlices:\n",
    "            rmse = np.load(os.path.join(subDir, str(inputSlice), 'loss.npz'))['val']\n",
    "            if rmse.ndim == 0:\n",
    "                rmse = float(rmse)\n",
    "            else:\n",
    "                rmse = rmse[-1,-1]\n",
    "            rmses.append(rmse)\n",
    "    \n",
    "    params = np.array(params)\n",
    "    rmses = np.reshape(np.array(rmses), (params.shape[0],-1))\n",
    "\n",
    "    paramList[k] = params\n",
    "    rmseList[k] = np.mean(rmses,-1)"
   ]
  },
  {
   "cell_type": "code",
   "execution_count": 31,
   "metadata": {},
   "outputs": [
    {
     "data": {
      "text/plain": [
       "<matplotlib.legend.Legend at 0x2aaadeaa2978>"
      ]
     },
     "execution_count": 31,
     "metadata": {},
     "output_type": "execute_result"
    },
    {
     "data": {
      "image/png": "[encoded data removed]",
      "text/plain": [
       "<Figure size 432x288 with 1 Axes>"
      ]
     },
     "metadata": {
      "needs_background": "light"
     },
     "output_type": "display_data"
    }
   ],
   "source": [
    "plt.figure()\n",
    "sigmas = np.unique(paramList['nlm'][:, 1])\n",
    "for sigma in sigmas:\n",
    "    inds = np.where(paramList['nlm'][:, 1] == sigma)[0]\n",
    "    gammas = params[inds, 0]\n",
    "    inds2 = np.argsort(gammas)\n",
    "    gammas = gammas[inds2]\n",
    "    rmses = rmseList['nlm'][inds][inds2]\n",
    "    \n",
    "    plt.semilogy(gammas, rmses, '.-')\n",
    "\n",
    "plt.legend(sigmas)"
   ]
  },
  {
   "cell_type": "code",
   "execution_count": 10,
   "metadata": {},
   "outputs": [
    {
     "data": {
      "text/plain": [
       "{'nlm': array([0.02027536, 0.06234527, 0.05588296, 0.05822541, 0.06774364,\n",
       "        0.04073424, 0.03044863, 0.02494478, 0.02626391, 0.02059073,\n",
       "        0.02354228, 0.03378468, 0.01993124, 0.02179096, 0.0320026 ,\n",
       "        0.01957152, 0.02048057, 0.02111614, 0.03117956, 0.01957368])}"
      ]
     },
     "execution_count": 10,
     "metadata": {},
     "output_type": "execute_result"
    }
   ],
   "source": [
    "rmseList"
   ]
  },
  {
   "cell_type": "code",
   "execution_count": 11,
   "metadata": {},
   "outputs": [
    {
     "data": {
      "text/plain": [
       "{'nlm': array([[0.00075, 0.05   ],\n",
       "        [0.00025, 0.01   ],\n",
       "        [0.00075, 0.01   ],\n",
       "        [0.0005 , 0.01   ],\n",
       "        [0.0001 , 0.01   ],\n",
       "        [0.0001 , 0.025  ],\n",
       "        [0.00025, 0.025  ],\n",
       "        [0.00075, 0.025  ],\n",
       "        [0.0005 , 0.025  ],\n",
       "        [0.0005 , 0.05   ],\n",
       "        [0.00025, 0.05   ],\n",
       "        [0.0001 , 0.05   ],\n",
       "        [0.00075, 0.075  ],\n",
       "        [0.00025, 0.075  ],\n",
       "        [0.0001 , 0.075  ],\n",
       "        [0.0005 , 0.075  ],\n",
       "        [0.00075, 0.1    ],\n",
       "        [0.00025, 0.1    ],\n",
       "        [0.0001 , 0.1    ],\n",
       "        [0.0005 , 0.1    ]])}"
      ]
     },
     "execution_count": 11,
     "metadata": {},
     "output_type": "execute_result"
    }
   ],
   "source": [
    "paramList"
   ]
  }
 ],
 "metadata": {
  "kernelspec": {
   "display_name": "Python 3",
   "language": "python",
   "name": "python3"
  },
  "language_info": {
   "codemirror_mode": {
    "name": "ipython",
    "version": 3
   },
   "file_extension": ".py",
   "mimetype": "text/x-python",
   "name": "python",
   "nbconvert_exporter": "python",
   "pygments_lexer": "ipython3",
   "version": "3.6.8"
  }
 },
 "nbformat": 4,
 "nbformat_minor": 2
}
