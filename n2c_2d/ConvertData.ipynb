{
 "cells": [
  {
   "cell_type": "code",
   "execution_count": 1,
   "metadata": {},
   "outputs": [],
   "source": [
    "# convert n2c_fp results to standard format"
   ]
  },
  {
   "cell_type": "code",
   "execution_count": 19,
   "metadata": {},
   "outputs": [],
   "source": [
    "import numpy as np\n",
    "import glob\n",
    "import os\n",
    "import sys"
   ]
  },
  {
   "cell_type": "code",
   "execution_count": 32,
   "metadata": {},
   "outputs": [],
   "source": [
    "dose = 0.125\n",
    "\n",
    "# get file list, this is the patient order of the testing slices\n",
    "patients = [os.path.basename(s).split('_')[0] for s in\n",
    "            glob.glob('/home/dwu/DeepRecon/train/data/real_2D_3_layer_mean/*_full_hann.npy')]\n",
    "\n",
    "# get folders of testing results\n",
    "testingFolders = glob.glob('../../train/recon/n2c_fp/encoder_decoder/%g/L*'%dose)\n",
    "\n",
    "# load reference, the saved rmse was wrong\n",
    "refs = np.load('../../train/recon/data/fp/full_hann.npy') / 0.019\n",
    "\n",
    "outDir = '../../train/recon/n2c_fp/encoder_decoder/%g/final'%dose\n",
    "nSlicesPerPatient = 10"
   ]
  },
  {
   "cell_type": "code",
   "execution_count": 33,
   "metadata": {},
   "outputs": [],
   "source": [
    "if not os.path.exists(outDir):\n",
    "    os.makedirs(outDir)"
   ]
  },
  {
   "cell_type": "code",
   "execution_count": 34,
   "metadata": {},
   "outputs": [],
   "source": [
    "for folder in testingFolders:\n",
    "    tokens = os.path.basename(folder).split('_')\n",
    "    imgs = np.load(os.path.join(folder, 'recon.npy'))\n",
    "    \n",
    "    baseSlices = [patients.index(tokens[0]) * 10, patients.index(tokens[1]) * 10]\n",
    "    imgs = [imgs[:nSlicesPerPatient, ...], imgs[nSlicesPerPatient:, ...]]\n",
    "    \n",
    "    \n",
    "    for img, baseSlice in zip(imgs, baseSlices):\n",
    "        for iSlice in range(nSlicesPerPatient):\n",
    "            rmse = np.sqrt(np.mean((img[iSlice, 128:-128, 128:-128, 0] - \n",
    "                                    refs[iSlice + baseSlice, 128:-128, 128:-128, 0])**2))\n",
    "            \n",
    "            curDir = os.path.join(outDir, str(iSlice + baseSlice))\n",
    "            if not os.path.exists(curDir):\n",
    "                os.makedirs(curDir)\n",
    "            np.save(os.path.join(curDir, 'recon.npy'), img[iSlice, ...])\n",
    "            np.savez(os.path.join(curDir, 'loss.npz'), header='rmseRoi', val=rmse)"
   ]
  },
  {
   "cell_type": "code",
   "execution_count": 25,
   "metadata": {},
   "outputs": [
    {
     "data": {
      "text/plain": [
       "0.9473883"
      ]
     },
     "execution_count": 25,
     "metadata": {},
     "output_type": "execute_result"
    }
   ],
   "source": [
    "rmse"
   ]
  },
  {
   "cell_type": "code",
   "execution_count": null,
   "metadata": {},
   "outputs": [],
   "source": []
  }
 ],
 "metadata": {
  "kernelspec": {
   "display_name": "Python 3",
   "language": "python",
   "name": "python3"
  },
  "language_info": {
   "codemirror_mode": {
    "name": "ipython",
    "version": 3
   },
   "file_extension": ".py",
   "mimetype": "text/x-python",
   "name": "python",
   "nbconvert_exporter": "python",
   "pygments_lexer": "ipython3",
   "version": "3.6.8"
  }
 },
 "nbformat": 4,
 "nbformat_minor": 2
}
