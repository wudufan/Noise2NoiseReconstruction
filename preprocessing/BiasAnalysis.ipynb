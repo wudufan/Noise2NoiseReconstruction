{
 "cells": [
  {
   "cell_type": "code",
   "execution_count": 1,
   "metadata": {},
   "outputs": [],
   "source": [
    "import numpy as np\n",
    "import matplotlib.pyplot as plt\n",
    "%matplotlib inline"
   ]
  },
  {
   "cell_type": "code",
   "execution_count": 34,
   "metadata": {},
   "outputs": [],
   "source": [
    "N0 = 1e5\n",
    "sigma = 2\n",
    "\n",
    "atts = np.arange(0, 11)\n",
    "# th = N0 * np.exp(-atts[-1])\n",
    "th = 1e-16\n",
    "\n",
    "attsEst = []\n",
    "for att in atts:\n",
    "    N = N0 * np.exp(-att)\n",
    "    N = np.random.poisson(N, 100000) + np.random.normal(scale=sigma, size=100000)\n",
    "    N[N < th] = th\n",
    "    \n",
    "    attsEst.append(np.mean(np.log(N0 / N)))"
   ]
  },
  {
   "cell_type": "code",
   "execution_count": 35,
   "metadata": {},
   "outputs": [
    {
     "data": {
      "text/plain": [
       "[-8.013790453764493e-06,\n",
       " 1.0000179656079582,\n",
       " 2.000026116001686,\n",
       " 3.0000732090423132,\n",
       " 4.000395610603208,\n",
       " 5.00077754664264,\n",
       " 6.0022755395108565,\n",
       " 7.005413840942534,\n",
       " 8.017835270135697,\n",
       " 9.081524487862637,\n",
       " 12.236600315663022]"
      ]
     },
     "execution_count": 35,
     "metadata": {},
     "output_type": "execute_result"
    }
   ],
   "source": [
    "attsEst"
   ]
  },
  {
   "cell_type": "code",
   "execution_count": null,
   "metadata": {},
   "outputs": [],
   "source": []
  }
 ],
 "metadata": {
  "kernelspec": {
   "display_name": "Python 3",
   "language": "python",
   "name": "python3"
  },
  "language_info": {
   "codemirror_mode": {
    "name": "ipython",
    "version": 3
   },
   "file_extension": ".py",
   "mimetype": "text/x-python",
   "name": "python",
   "nbconvert_exporter": "python",
   "pygments_lexer": "ipython3",
   "version": "3.6.8"
  }
 },
 "nbformat": 4,
 "nbformat_minor": 2
}
