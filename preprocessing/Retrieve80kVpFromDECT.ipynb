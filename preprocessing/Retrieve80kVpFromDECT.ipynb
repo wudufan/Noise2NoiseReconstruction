{
 "cells": [
  {
   "cell_type": "markdown",
   "metadata": {},
   "source": [
    "#### Retrieve half-dose 80kVp projection from DECT data to test Noise2Noise reconstruction on these really low-dose projections\n",
    "Because most half-dose DECT did not turn on the AEC, and they are scanned with chest protocol, so their dose at liver is really low."
   ]
  },
  {
   "cell_type": "code",
   "execution_count": 1,
   "metadata": {},
   "outputs": [],
   "source": [
    "import numpy as np\n",
    "import matplotlib.pyplot as plt\n",
    "import os\n",
    "import glob\n",
    "import sys"
   ]
  },
  {
   "cell_type": "code",
   "execution_count": 2,
   "metadata": {},
   "outputs": [
    {
     "data": {
      "text/plain": [
       "_StoreAction(option_strings=['--name'], dest='name', nargs=None, const=None, default='14_2', type=<class 'str'>, choices=None, help=None, metavar=None)"
      ]
     },
     "execution_count": 2,
     "metadata": {},
     "output_type": "execute_result"
    }
   ],
   "source": [
    "import argparse\n",
    "parser = argparse.ArgumentParser()\n",
    "parser.add_argument('--inputDir', type=str, default='/home/dwu/trainData/DeepRecon/DECT/train/data/3_layer_mean/')\n",
    "parser.add_argument('--outputDir', type=str, default='../../train/recon/80kVp/data/sino')\n",
    "parser.add_argument('--name', type=str, default='14_2')"
   ]
  },
  {
   "cell_type": "code",
   "execution_count": 3,
   "metadata": {},
   "outputs": [
    {
     "name": "stdout",
     "output_type": "stream",
     "text": [
      "inputDir : /home/dwu/trainData/DeepRecon/DECT/train/data/3_layer_mean/\n",
      "outputDir : ../../train/recon/80kVp/data/sino\n",
      "name : 14_2\n"
     ]
    }
   ],
   "source": [
    "if sys.argv[0] != 'Retrieve80kVpFromDECT.py':\n",
    "    args = parser.parse_args([])\n",
    "    showPlots = True\n",
    "else:\n",
    "    args = parser.parse_args()\n",
    "    showPlots = False\n",
    "\n",
    "for k in args.__dict__:\n",
    "    print (k, ':', args.__dict__[k], flush=True)"
   ]
  },
  {
   "cell_type": "code",
   "execution_count": 4,
   "metadata": {},
   "outputs": [
    {
     "name": "stdout",
     "output_type": "stream",
     "text": [
      "(114, 736, 1152, 1)\n"
     ]
    }
   ],
   "source": [
    "# read sinogram\n",
    "filename = os.path.join(args.inputDir, 'sino_%s.npz'%args.name)\n",
    "prj = np.load(filename)['sinoA']\n",
    "print (prj.shape)"
   ]
  },
  {
   "cell_type": "code",
   "execution_count": 5,
   "metadata": {},
   "outputs": [],
   "source": [
    "# to make the coordinates the same with Mayo's data\n",
    "prj = np.roll(prj, prj.shape[-2] // 4, -2)\n",
    "prj = prj[:,::-1,::-1,:]"
   ]
  },
  {
   "cell_type": "code",
   "execution_count": 6,
   "metadata": {},
   "outputs": [],
   "source": [
    "# save sinogram\n",
    "if not os.path.exists(args.outputDir):\n",
    "    os.makedirs(args.outputDir)\n",
    "np.save(os.path.join(args.outputDir, 'sino_'+args.name), np.copy(prj, 'C'))"
   ]
  },
  {
   "cell_type": "code",
   "execution_count": null,
   "metadata": {},
   "outputs": [],
   "source": []
  }
 ],
 "metadata": {
  "kernelspec": {
   "display_name": "Python 3",
   "language": "python",
   "name": "python3"
  },
  "language_info": {
   "codemirror_mode": {
    "name": "ipython",
    "version": 3
   },
   "file_extension": ".py",
   "mimetype": "text/x-python",
   "name": "python",
   "nbconvert_exporter": "python",
   "pygments_lexer": "ipython3",
   "version": "3.6.9"
  }
 },
 "nbformat": 4,
 "nbformat_minor": 4
}
