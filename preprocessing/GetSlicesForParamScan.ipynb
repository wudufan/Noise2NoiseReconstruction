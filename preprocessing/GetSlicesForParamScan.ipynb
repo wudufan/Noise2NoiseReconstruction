{
 "cells": [
  {
   "cell_type": "code",
   "execution_count": 1,
   "metadata": {},
   "outputs": [],
   "source": [
    "import numpy as np"
   ]
  },
  {
   "cell_type": "code",
   "execution_count": 3,
   "metadata": {},
   "outputs": [
    {
     "name": "stdout",
     "output_type": "stream",
     "text": [
      "[ 2 16 26 54 55 73 75 86 93 95]\n"
     ]
    }
   ],
   "source": [
    "np.random.seed(0)\n",
    "inds = np.arange(100)\n",
    "np.random.shuffle(inds)\n",
    "\n",
    "slices = np.sort(inds[:10])\n",
    "\n",
    "print (slices)"
   ]
  },
  {
   "cell_type": "code",
   "execution_count": null,
   "metadata": {},
   "outputs": [],
   "source": [
    "# retrieve sub slices for noise level comparison\n",
    "img = np.load('../../train/recon/data/sino/full_hann.npy')[slices, ...]\n",
    "np.save('../../train/recon/data/sino/full_hann_param.npy', img)"
   ]
  }
 ],
 "metadata": {
  "kernelspec": {
   "display_name": "Python 3",
   "language": "python",
   "name": "python3"
  },
  "language_info": {
   "codemirror_mode": {
    "name": "ipython",
    "version": 3
   },
   "file_extension": ".py",
   "mimetype": "text/x-python",
   "name": "python",
   "nbconvert_exporter": "python",
   "pygments_lexer": "ipython3",
   "version": "3.6.8"
  }
 },
 "nbformat": 4,
 "nbformat_minor": 2
}
