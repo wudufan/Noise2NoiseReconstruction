{
 "cells": [
  {
   "cell_type": "code",
   "execution_count": 12,
   "metadata": {},
   "outputs": [],
   "source": [
    "import numpy as np\n",
    "import glob\n",
    "import sys\n",
    "import os"
   ]
  },
  {
   "cell_type": "code",
   "execution_count": 13,
   "metadata": {},
   "outputs": [],
   "source": [
    "inputDir = '../../train/recon/gaussian_2d_ref/'\n",
    "outputDir = '../../train/recon/data/sino/'"
   ]
  },
  {
   "cell_type": "code",
   "execution_count": 15,
   "metadata": {},
   "outputs": [],
   "source": [
    "for beta in ['1e-4', '1.25e-4', '1.5e-4']:\n",
    "    folders = glob.glob(os.path.join(inputDir, beta, '*'))\n",
    "    iSlices = [int(os.path.basename(s)) for s in folders]\n",
    "    inds = np.argsort(iSlices)\n",
    "    \n",
    "    folders = [folders[i] for i in inds]\n",
    "    \n",
    "    img = []\n",
    "    for folder in folders:\n",
    "        img.append(np.load(os.path.join(folder, 'recon.npy')))\n",
    "    img = np.concatenate(img, 0)\n",
    "    \n",
    "    np.save(os.path.join(outputDir, beta+'_full_gaussian'), img * 0.019)\n",
    "    \n",
    "#     break"
   ]
  },
  {
   "cell_type": "code",
   "execution_count": null,
   "metadata": {},
   "outputs": [],
   "source": []
  }
 ],
 "metadata": {
  "kernelspec": {
   "display_name": "Python 3",
   "language": "python",
   "name": "python3"
  },
  "language_info": {
   "codemirror_mode": {
    "name": "ipython",
    "version": 3
   },
   "file_extension": ".py",
   "mimetype": "text/x-python",
   "name": "python",
   "nbconvert_exporter": "python",
   "pygments_lexer": "ipython3",
   "version": "3.6.8"
  }
 },
 "nbformat": 4,
 "nbformat_minor": 2
}
