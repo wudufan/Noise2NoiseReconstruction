{
 "cells": [
  {
   "cell_type": "code",
   "execution_count": 8,
   "metadata": {},
   "outputs": [],
   "source": [
    "import numpy as np\n",
    "import os\n",
    "import glob"
   ]
  },
  {
   "cell_type": "code",
   "execution_count": 9,
   "metadata": {},
   "outputs": [],
   "source": [
    "# retrieve 10 slices from each patient\n",
    "nSlicesFix = 5\n",
    "nSlicesRand = 5\n",
    "outDir = '../../train/recon/data/sino'\n",
    "if not os.path.exists(outDir):\n",
    "    os.makedirs(outDir)"
   ]
  },
  {
   "cell_type": "code",
   "execution_count": 10,
   "metadata": {},
   "outputs": [],
   "source": [
    "files = glob.glob('/home/dwu/DeepRecon/train/data/real_2D_3_layer_mean/*_quarter_sino.npy')\n",
    "resolutions = np.load('/home/dwu/DeepRecon/train/data/resolution.npz')"
   ]
  },
  {
   "cell_type": "code",
   "execution_count": 11,
   "metadata": {},
   "outputs": [
    {
     "data": {
      "text/plain": [
       "['/home/dwu/DeepRecon/train/data/real_2D_3_layer_mean/L067_quarter_sino.npy',\n",
       " '/home/dwu/DeepRecon/train/data/real_2D_3_layer_mean/L096_quarter_sino.npy',\n",
       " '/home/dwu/DeepRecon/train/data/real_2D_3_layer_mean/L109_quarter_sino.npy',\n",
       " '/home/dwu/DeepRecon/train/data/real_2D_3_layer_mean/L143_quarter_sino.npy',\n",
       " '/home/dwu/DeepRecon/train/data/real_2D_3_layer_mean/L192_quarter_sino.npy',\n",
       " '/home/dwu/DeepRecon/train/data/real_2D_3_layer_mean/L286_quarter_sino.npy',\n",
       " '/home/dwu/DeepRecon/train/data/real_2D_3_layer_mean/L291_quarter_sino.npy',\n",
       " '/home/dwu/DeepRecon/train/data/real_2D_3_layer_mean/L310_quarter_sino.npy',\n",
       " '/home/dwu/DeepRecon/train/data/real_2D_3_layer_mean/L333_quarter_sino.npy',\n",
       " '/home/dwu/DeepRecon/train/data/real_2D_3_layer_mean/L506_quarter_sino.npy']"
      ]
     },
     "execution_count": 11,
     "metadata": {},
     "output_type": "execute_result"
    }
   ],
   "source": [
    "files"
   ]
  },
  {
   "cell_type": "code",
   "execution_count": 12,
   "metadata": {},
   "outputs": [],
   "source": [
    "np.random.seed(0)\n",
    "imgs = []\n",
    "reses = []\n",
    "for file in files:\n",
    "    img = np.load(file)\n",
    "    \n",
    "    # retrieve the last 5 slices with other random 5 slices\n",
    "    inds = np.arange(0, img.shape[0] - nSlicesFix)\n",
    "    np.random.shuffle(inds)\n",
    "    inds = np.concatenate((inds[:nSlicesRand], range(img.shape[0]-nSlicesFix, img.shape[0])))\n",
    "    \n",
    "    # get filename\n",
    "    filename = os.path.basename(file)\n",
    "    tag = filename.split('_')[0]\n",
    "    res = resolutions['res'][np.where(resolutions['names'] == tag)[0][0]]\n",
    "    \n",
    "    imgs.append(img[inds,...])\n",
    "    reses += [res] * (nSlicesFix + nSlicesRand)\n",
    "\n",
    "imgs = np.concatenate(imgs, 0)\n",
    "# reses = np.array(reses)\n",
    "reses = np.ones_like(reses) * 0.8"
   ]
  },
  {
   "cell_type": "code",
   "execution_count": 6,
   "metadata": {},
   "outputs": [],
   "source": [
    "# save file\n",
    "np.save(os.path.join(outDir, 'quarter_sino'), imgs)\n",
    "np.save(os.path.join(outDir, 'resolutions'), reses)"
   ]
  },
  {
   "cell_type": "code",
   "execution_count": null,
   "metadata": {},
   "outputs": [],
   "source": []
  }
 ],
 "metadata": {
  "kernelspec": {
   "display_name": "Python 3",
   "language": "python",
   "name": "python3"
  },
  "language_info": {
   "codemirror_mode": {
    "name": "ipython",
    "version": 3
   },
   "file_extension": ".py",
   "mimetype": "text/x-python",
   "name": "python",
   "nbconvert_exporter": "python",
   "pygments_lexer": "ipython3",
   "version": "3.6.8"
  }
 },
 "nbformat": 4,
 "nbformat_minor": 2
}
